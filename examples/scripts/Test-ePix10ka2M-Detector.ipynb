{
 "cells": [
  {
   "cell_type": "code",
   "execution_count": null,
   "metadata": {},
   "outputs": [],
   "source": [
    "import sys\n",
    "ROOT_DIR = \"..\"\n",
    "if ROOT_DIR not in sys.path:\n",
    "    sys.path.append(ROOT_DIR)"
   ]
  },
  {
   "cell_type": "code",
   "execution_count": null,
   "metadata": {},
   "outputs": [],
   "source": [
    "import os\n",
    "import time\n",
    "import numpy as np\n",
    "import six\n",
    "import itertools\n",
    "import h5py as h5\n",
    "from mpi4py import MPI # module required to use MPI\n",
    "import matplotlib.pyplot as plt\n",
    "from matplotlib.colors import LogNorm\n",
    "\n",
    "import pysingfel as ps\n",
    "import pysingfel.gpu as pg\n",
    "from pysingfel.util import asnumpy, xp"
   ]
  },
  {
   "cell_type": "code",
   "execution_count": null,
   "metadata": {},
   "outputs": [],
   "source": [
    "beam = ps.Beam(ROOT_DIR+'/input/beam/amo86615.beam')"
   ]
  },
  {
   "cell_type": "code",
   "execution_count": null,
   "metadata": {},
   "outputs": [],
   "source": [
    "#det = ps.Epix10kDetector(geom=ROOT_DIR+'/input/lcls/xcslt4017/Epix10ka2M::CalibV1/XcsEndstation.0:Epix10ka2M.0/geometry/7-end.data',run_num=7,beam=beam)"
   ]
  },
  {
   "cell_type": "code",
   "execution_count": null,
   "metadata": {},
   "outputs": [],
   "source": [
    "det = ps.Epix10kDetector(geom=ROOT_DIR+'/input/lcls/xcsx35617/Epix10ka2M::CalibV1/XcsEndstation.0:Epix10ka2M.0/geometry/0-end.data',beam=beam)"
   ]
  },
  {
   "cell_type": "code",
   "execution_count": null,
   "metadata": {},
   "outputs": [],
   "source": [
    "# reset detector distance for desired resolution\n",
    "# aim for 5A to 7A resolution\n",
    "det.distance *= 0.25"
   ]
  },
  {
   "cell_type": "code",
   "execution_count": null,
   "metadata": {},
   "outputs": [],
   "source": [
    "particle = ps.Particle()\n",
    "particle.read_pdb(ROOT_DIR+'/input/pdb/2CEX.pdb', ff='WK')"
   ]
  },
  {
   "cell_type": "code",
   "execution_count": null,
   "metadata": {},
   "outputs": [],
   "source": [
    "experiment = ps.SPIExperiment(det, beam, particle)"
   ]
  },
  {
   "cell_type": "code",
   "execution_count": null,
   "metadata": {},
   "outputs": [],
   "source": [
    "def demo(experiment):\n",
    "    \"\"\"Plot a few slices of the experiment.\"\"\"\n",
    "    Nrows = 1  # <- Modify this constant to have more/less images.\n",
    "    viz = ps.Visualizer(experiment, diffraction_rings=\"auto\", log_scale=True)\n",
    "    plt.figure(figsize=(20, 4.5*Nrows-0.5))\n",
    "    start = time.clock()\n",
    "    for i in range(4*Nrows):\n",
    "        plt.subplot(Nrows, 4, i+1)\n",
    "        img = experiment.generate_image()\n",
    "        viz.imshow(img)\n",
    "    stop = time.clock()\n",
    "    plt.show()\n",
    "    rate = 4 * Nrows / (stop - start)\n",
    "    print(\"Image rate = {:.5f} images per second.\".format(rate))"
   ]
  },
  {
   "cell_type": "code",
   "execution_count": null,
   "metadata": {},
   "outputs": [],
   "source": [
    "demo(experiment)"
   ]
  },
  {
   "cell_type": "markdown",
   "metadata": {},
   "source": [
    "### GAIN_MODES = ['FH','FM','FL','AHL-H','AML-M','AHL-L','AML-L']"
   ]
  },
  {
   "cell_type": "code",
   "execution_count": null,
   "metadata": {},
   "outputs": [],
   "source": [
    "det.pedestals.shape"
   ]
  },
  {
   "cell_type": "code",
   "execution_count": null,
   "metadata": {},
   "outputs": [],
   "source": [
    "import pyimgalgos.NDArrGenerators as ag\n",
    "\n",
    "peds = []\n",
    "for i in range(det.pedestals.shape[1]):\n",
    "    nda = ag.random_standard(shape=det.pedestals.shape[2:], mu=np.mean(det.pedestals[2]), sigma=np.mean(det.pixel_rms[2]), dtype=np.float)\n",
    "    peds.append(nda)\n",
    "peds = np.array(peds)"
   ]
  },
  {
   "cell_type": "code",
   "execution_count": null,
   "metadata": {},
   "outputs": [],
   "source": [
    "# pixel value is stored as uint16\n",
    "# highest 2 bits store gainbit, i.e. (low: 0 or 0b00, middle: 1 or 0b01, high: 2 or 0b10)\n",
    "# lower 14 bits store diffraction intensity, i.e. maximum intensity value is 2**14-1 = 16,383\n",
    "nBits = 14 # numIntensityBits\n",
    "maxEnergy = 10000*8 ## keV\n",
    "nRanges = 2 # numGainBits\n",
    "maxIntensity = 2**nBits-1\n",
    "switchPoints = [-666, maxEnergy*666] ## keV\n",
    "switchPointVariations = [4.*8, 0.] ## keV, placeholder\n",
    "switchPointWidths = [4.*8, 0.] ## keV, placeholder\n",
    "offsets = [0, 2100] ## ADU, placeholder\n",
    "gains = [4.1, 0.1] ## ADU/keV\n",
    "gainErrors = [0.01, 0.015] ## dimensionless, placeholder\n",
    "nonLinearity = [0.01/2400, 0.017/maxEnergy] ## 1/keV, placeholder\n",
    "\n",
    "detDim = (16, 352, 384)\n",
    "gainbit = np.zeros(detDim)\n",
    "adu = (experiment.generate_image_stack()+peds).astype('uint16')\n",
    "\n",
    "def ADUtoGainbit(x):\n",
    "    if x < -666:\n",
    "        return 0\n",
    "    elif -666 < maxEnergy*666:\n",
    "        return 1\n",
    "\n",
    "vecfunc = np.vectorize(ADUtoGainbit)\n",
    "gainbit = vecfunc(adu)\n",
    "\n",
    "raw = np.left_shift(gainbit,nBits) + adu # combine 2-bit gainbit and 14-bit adu in a single 16-bit array to save memory"
   ]
  },
  {
   "cell_type": "code",
   "execution_count": null,
   "metadata": {},
   "outputs": [],
   "source": [
    "import psana\n",
    "import numpy as np\n",
    "import time\n",
    "import matplotlib.pyplot as plt\n",
    "from Detector.UtilsEpix10ka import find_gain_mode\n",
    "\n",
    "#experimentName = 'xcslt4017'\n",
    "#runNumber = '357'\n",
    "experimentName = 'xcsx35617'\n",
    "#runNumber = '99' ## runs 99-107: MEdium gain\n",
    "runNumber = '421' ## low-gain dark run\n",
    "detInfo = 'epix10ka2m'\n",
    "ds = psana.DataSource('exp='+experimentName+':run='+runNumber+':idx')\n",
    "run = ds.runs().next()\n",
    "det = psana.Detector(detInfo)\n",
    "times = run.times()\n",
    "env = ds.env()"
   ]
  },
  {
   "cell_type": "markdown",
   "metadata": {},
   "source": [
    "## Apply pedestals corrections"
   ]
  },
  {
   "cell_type": "code",
   "execution_count": null,
   "metadata": {},
   "outputs": [],
   "source": [
    "for i in times:\n",
    "    evt = run.event(i)\n",
    "    raw = det.raw(evt)\n",
    "    #gm = find_gain_mode(det, raw) # returns string name of the gain mode\n",
    "    #print gm\n",
    "    calib = det.calib(evt, cmpars=(0,2,100), nda_raw=peds)\n",
    "    img1 = det.image(evt, calib)\n",
    "    calib = det.calib(evt, cmpars=(0,2,100), nda_raw=raw)\n",
    "    img2 = det.image(evt, calib)\n",
    "    #plt.subplot(1,2,1)\n",
    "    #plt.imshow(img1, norm=LogNorm())\n",
    "    #plt.subplot(1,2,2)\n",
    "    plt.imshow(img2, norm=LogNorm())\n",
    "    plt.colorbar()\n",
    "    plt.show()\n",
    "    #print calib.shape\n",
    "    #print img1.shape\n",
    "    #print img2.shape\n",
    "    exit()"
   ]
  }
 ],
 "metadata": {
  "kernelspec": {
   "display_name": "Python 2 ana-current",
   "language": "python",
   "name": "ana-current"
  },
  "language_info": {
   "codemirror_mode": {
    "name": "ipython",
    "version": 2
   },
   "file_extension": ".py",
   "mimetype": "text/x-python",
   "name": "python",
   "nbconvert_exporter": "python",
   "pygments_lexer": "ipython2",
   "version": "2.7.15"
  }
 },
 "nbformat": 4,
 "nbformat_minor": 2
}
